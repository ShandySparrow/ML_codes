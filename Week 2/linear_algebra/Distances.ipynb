{
 "cells": [
  {
   "cell_type": "code",
   "execution_count": 2,
   "metadata": {},
   "outputs": [
    {
     "name": "stdout",
     "output_type": "stream",
     "text": [
      "Distance = 4.242641\n"
     ]
    }
   ],
   "source": [
    "# Euclidean distance\n",
    "\n",
    "x1 = float(input('Enter x1: '))\n",
    "y1 = float(input('Enter y1: '))\n",
    "x2 = float(input('Enter x2: '))\n",
    "y2 = float(input('Enter y2: '))\n",
    "\n",
    "# Calculating distance\n",
    "d = ( (x2-x1)**2 + (y2-y1)**2 ) ** 0.5\n",
    "\n",
    "print('Distance = %f' %(d))"
   ]
  },
  {
   "cell_type": "code",
   "execution_count": 3,
   "metadata": {},
   "outputs": [
    {
     "name": "stdout",
     "output_type": "stream",
     "text": [
      "[[0.91005765]]\n"
     ]
    }
   ],
   "source": [
    "# cosine_similarity using python\n",
    "\n",
    "import numpy as np\n",
    "from sklearn.metrics.pairwise import cosine_similarity,cosine_distances\n",
    "\n",
    "A=np.array([10,3])\n",
    "B=np.array([8,7])\n",
    "\n",
    "result=cosine_similarity(A.reshape(1,-1),B.reshape(1,-1))\n",
    "\n",
    "print(result)"
   ]
  },
  {
   "cell_type": "code",
   "execution_count": 4,
   "metadata": {},
   "outputs": [
    {
     "data": {
      "text/plain": [
       "2.0"
      ]
     },
     "execution_count": 4,
     "metadata": {},
     "output_type": "execute_result"
    }
   ],
   "source": [
    "# Hamming distance using python\n",
    "\n",
    "from scipy.spatial.distance import hamming\n",
    "\n",
    "x = [0, 1, 1, 1, 0, 1]\n",
    "y = [0, 0, 1, 1, 0, 0]\n",
    "\n",
    "hamming(x, y) * len(x)"
   ]
  },
  {
   "cell_type": "code",
   "execution_count": 5,
   "metadata": {},
   "outputs": [
    {
     "data": {
      "text/plain": [
       "9"
      ]
     },
     "execution_count": 5,
     "metadata": {},
     "output_type": "execute_result"
    }
   ],
   "source": [
    " # Manhattan distance using python\n",
    "\n",
    "from math import sqrt\n",
    "def manhattan(a, b):\n",
    "    return sum(abs(val1-val2) for val1, val2 in zip(a,b))\n",
    "\n",
    "A = [2, 4, 4, 6]\n",
    "B = [5, 5, 7, 8]\n",
    "\n",
    "manhattan(A, B)"
   ]
  },
  {
   "cell_type": "code",
   "execution_count": 6,
   "metadata": {},
   "outputs": [
    {
     "name": "stdout",
     "output_type": "stream",
     "text": [
      "3.503\n"
     ]
    }
   ],
   "source": [
    "\n",
    "# minkowski_distance using python\n",
    "\n",
    "from math import *\n",
    "from decimal import Decimal\n",
    "def p_root(value, root):\n",
    "    root_value = 1 / float(root)\n",
    "    return round (Decimal(value) ** Decimal(root_value), 3)\n",
    "def minkowski_distance(x, y, p_value):\n",
    "    return (p_root(sum(pow(abs(a-b), p_value) for a, b in zip(x, y)), p_value))\n",
    "\n",
    "vector1 = [0, 2, 3, 4]\n",
    "vector2 = [2, 4, 3, 7]\n",
    "\n",
    "p = 3\n",
    "\n",
    "print(minkowski_distance(vector1, vector2, p))"
   ]
  },
  {
   "cell_type": "code",
   "execution_count": 7,
   "metadata": {},
   "outputs": [
    {
     "name": "stdout",
     "output_type": "stream",
     "text": [
      "13.0\n",
      "6.082762530298219\n"
     ]
    }
   ],
   "source": [
    "\n",
    "from scipy.spatial import minkowski_distance\n",
    "\n",
    "row1 = [10, 20, 15, 10, 5]\n",
    "row2 = [12, 24, 18, 8, 7]\n",
    "\n",
    "# calculate distance (p=1)\n",
    "dist = minkowski_distance(row1, row2, 1)\n",
    "print(dist)\n",
    "\n",
    "# calculate distance (p=2)\n",
    "dist = minkowski_distance(row1, row2, 2)\n",
    "print(dist)"
   ]
  },
  {
   "cell_type": "code",
   "execution_count": 8,
   "metadata": {},
   "outputs": [
    {
     "name": "stdout",
     "output_type": "stream",
     "text": [
      "0.25\n"
     ]
    }
   ],
   "source": [
    "# Jaccard Distance using python\n",
    "\n",
    "A = {1, 2, 3, 5, 7}\n",
    "B = {1, 2, 4, 8, 9}\n",
    "def jaccard_similarity(A, B):\n",
    "\n",
    "    #Find intersection of two sets\n",
    "    nominator = A.intersection(B)\n",
    "\n",
    "    #Find union of two sets\n",
    "    denominator = A.union(B)\n",
    "\n",
    "    #Take the ratio of sizes\n",
    "    similarity = len(nominator)/len(denominator)\n",
    "\n",
    "    return similarity\n",
    "\n",
    "similarity = jaccard_similarity(A, B)\n",
    "print(similarity)"
   ]
  }
 ],
 "metadata": {
  "kernelspec": {
   "display_name": "Python 3",
   "language": "python",
   "name": "python3"
  },
  "language_info": {
   "codemirror_mode": {
    "name": "ipython",
    "version": 3
   },
   "file_extension": ".py",
   "mimetype": "text/x-python",
   "name": "python",
   "nbconvert_exporter": "python",
   "pygments_lexer": "ipython3",
   "version": "3.12.1"
  }
 },
 "nbformat": 4,
 "nbformat_minor": 2
}
