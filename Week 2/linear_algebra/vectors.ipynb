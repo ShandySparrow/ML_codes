{
 "cells": [
  {
   "cell_type": "code",
   "execution_count": 3,
   "metadata": {},
   "outputs": [
    {
     "name": "stdout",
     "output_type": "stream",
     "text": [
      "Horizontal Vector\n",
      "[1 2 3]\n",
      "Vertical Vector\n",
      "[[10]\n",
      " [20]\n",
      " [30]]\n"
     ]
    }
   ],
   "source": [
    "import numpy as np\n",
    "\n",
    "list1 = [1, 2, 3]\n",
    "list2 = [[10],[20],[30]]\n",
    "\n",
    "vector1 = np.array(list1)\n",
    "vector2 = np.array(list2)\n",
    "\n",
    "print(\"Horizontal Vector\")\n",
    "print(vector1)\n",
    "\n",
    "print(\"Vertical Vector\")\n",
    "print(vector2)"
   ]
  },
  {
   "cell_type": "code",
   "execution_count": 5,
   "metadata": {},
   "outputs": [
    {
     "name": "stdout",
     "output_type": "stream",
     "text": [
      "Vector Addition : [11 22 33]\n",
      "Vector Subtraction : [ -9 -18 -27]\n",
      "Vector Multiplication : [10 40 90]\n",
      "Scalar Multiplication : [2 4 6]\n",
      "Vector Division : [0.1 0.1 0.1]\n"
     ]
    }
   ],
   "source": [
    "\n",
    "list1 = [1, 2, 3]\n",
    "list2 = [10,20,30]\n",
    "\n",
    "vector1 = np.array(list1)\n",
    "vector2 = np.array(list2)\n",
    "\n",
    "addition = vector1 + vector2\n",
    "print(\"Vector Addition : \" + str(addition))\n",
    "\n",
    "subtraction = vector1 - vector2\n",
    "print(\"Vector Subtraction : \" + str(subtraction))\n",
    "\n",
    "multiplication = vector1 * vector2\n",
    "print(\"Vector Multiplication : \" + str(multiplication))\n",
    "\n",
    "scalar = 2\n",
    "\n",
    "scalar_mul = vector1 * scalar\n",
    "print(\"Scalar Multiplication : \" + str(scalar_mul))\n",
    "\n",
    "division = vector1 / vector2\n",
    "print(\"Vector Division : \" + str(division))"
   ]
  },
  {
   "cell_type": "code",
   "execution_count": 6,
   "metadata": {},
   "outputs": [
    {
     "name": "stdout",
     "output_type": "stream",
     "text": [
      "Dot Product   : 140\n",
      "[0 0 0]\n"
     ]
    }
   ],
   "source": [
    "# Dot Product\n",
    "dot_product = vector1.dot(vector2)\n",
    "print(\"Dot Product   : \" + str(dot_product))\n",
    "\n",
    "#Cross Product\n",
    "cross = np.cross(vector1, vector2)\n",
    "print(cross)"
   ]
  },
  {
   "cell_type": "code",
   "execution_count": 10,
   "metadata": {},
   "outputs": [
    {
     "name": "stdout",
     "output_type": "stream",
     "text": [
      "5.0\n"
     ]
    }
   ],
   "source": [
    "# Vector norm\n",
    "from numpy.linalg import norm\n",
    "\n",
    "arr=np.array([1,3,5])          \n",
    "l=norm(arr,float('inf'))             \n",
    "\n",
    "print(l)"
   ]
  },
  {
   "cell_type": "code",
   "execution_count": 11,
   "metadata": {},
   "outputs": [
    {
     "name": "stdout",
     "output_type": "stream",
     "text": [
      "Projection of Vector u on Vector v is:  [1.76923077 2.12307692 0.70769231]\n"
     ]
    }
   ],
   "source": [
    "#Vector Projection\n",
    "u = np.array([1, 2, 3])\n",
    "v = np.array([5, 6, 2]) \n",
    "\n",
    "v_norm = np.sqrt(sum(v**2))\t\n",
    "proj_of_u_on_v = (np.dot(u, v)/v_norm**2)*v\n",
    "\n",
    "print(\"Projection of Vector u on Vector v is: \", proj_of_u_on_v)"
   ]
  },
  {
   "cell_type": "code",
   "execution_count": 12,
   "metadata": {},
   "outputs": [
    {
     "data": {
      "text/plain": [
       "array([3.42, 1.55, 3.65])"
      ]
     },
     "execution_count": 12,
     "metadata": {},
     "output_type": "execute_result"
    }
   ],
   "source": [
    "# Linear Combination of vector\n",
    "x = np.array([[0, 0, 1],[0, 1, 0],[1, 0, 0]])\n",
    "y = ([3.65, 1.55, 3.42])\n",
    "\n",
    "scalars = np.linalg.solve(x, y)\n",
    "scalars"
   ]
  },
  {
   "cell_type": "code",
   "execution_count": 15,
   "metadata": {},
   "outputs": [
    {
     "name": "stdout",
     "output_type": "stream",
     "text": [
      "(0,)\n",
      "[[0 5 1]]\n",
      "linearly dependant\n"
     ]
    }
   ],
   "source": [
    "# linearly dependent and independent vectors\n",
    "import sympy \n",
    "\n",
    "matrix = np.array([ [0, 5, 1], [0, 0, 0]])\n",
    "_, indexes = sympy.Matrix(matrix).T.rref()  # T is for transpose\n",
    "\n",
    "print(indexes)\n",
    "print(matrix[indexes,:])\n",
    "\n",
    "if len(indexes) == 2:\n",
    "    print(\"linearly independant\")\n",
    "else:\n",
    "    print(\"linearly dependant\")"
   ]
  },
  {
   "cell_type": "markdown",
   "metadata": {},
   "source": [
    "MATRIX"
   ]
  },
  {
   "cell_type": "code",
   "execution_count": 16,
   "metadata": {},
   "outputs": [
    {
     "name": "stdout",
     "output_type": "stream",
     "text": [
      "The element wise addition of matrix is : \n",
      "[[ 8 10]\n",
      " [13 15]]\n",
      "The element wise subtraction of matrix is : \n",
      "[[-6 -6]\n",
      " [-5 -5]]\n",
      "The element wise division of matrix is : \n",
      "[[0.14285714 0.25      ]\n",
      " [0.44444444 0.5       ]]\n",
      "The element wise multiplication of matrix is : \n",
      "[[ 7 16]\n",
      " [36 50]]\n",
      "The element wise square root is : \n",
      "[[1.         1.41421356]\n",
      " [2.         2.23606798]]\n",
      "The summation of all matrix element is : \n",
      "34\n",
      "The column wise summation of all matrix is : \n",
      "[16 18]\n",
      "The transpose of given matrix is : \n",
      "[[1 4]\n",
      " [2 5]]\n"
     ]
    }
   ],
   "source": [
    "x = np.array([ [1, 2], [4, 5]])\n",
    "y = np.array([[7, 8], [9, 10]])\n",
    "\n",
    "print (\"The element wise addition of matrix is : \")\n",
    "print (np.add(x,y))\n",
    "\n",
    "print (\"The element wise subtraction of matrix is : \")\n",
    "print (np.subtract(x,y))\n",
    "\n",
    "print (\"The element wise division of matrix is : \")\n",
    "print (np.divide(x,y))\n",
    "\n",
    "print (\"The element wise multiplication of matrix is : \")\n",
    "print (np.multiply(x,y))\n",
    "\n",
    "print (\"The element wise square root is : \")\n",
    "print (np.sqrt(x))\n",
    "\n",
    "print (\"The summation of all matrix element is : \")\n",
    "print (np.sum(y))\n",
    "\n",
    "print (\"The column wise summation of all matrix is : \")\n",
    "print (np.sum(y,axis=0))\n",
    "\n",
    "print (\"The transpose of given matrix is : \")\n",
    "print (x.T)"
   ]
  },
  {
   "cell_type": "code",
   "execution_count": 25,
   "metadata": {},
   "outputs": [
    {
     "name": "stdout",
     "output_type": "stream",
     "text": [
      "inner: 32\n",
      "dot: 32\n",
      "a <class 'numpy.ndarray'>\n",
      "[[1 2]\n",
      " [3 4]]\n",
      "\n",
      "b <class 'numpy.ndarray'>\n",
      "[[ 5  6  7]\n",
      " [ 8  9 10]]\n",
      "\n",
      "dot product of two ndarray objects\n",
      "[[21 24 27]\n",
      " [47 54 61]]\n",
      "\n",
      "dot product of two matrix objects\n",
      "[[21 24]\n",
      " [47 54]]\n",
      "inner: [[17 26]\n",
      " [39 60]]\n"
     ]
    }
   ],
   "source": [
    "a = np.array([1, 2, 3])\n",
    "b = np.array([4, 5, 6])\n",
    "\n",
    "print(\"inner:\", np.inner(a, b))\n",
    "print(\"dot:\", np.dot(a, b))\n",
    "\n",
    "a = np.array([[1, 2], [3, 4]])\n",
    "b = np.array([[5, 6, 7], [8, 9, 10]])\n",
    "\n",
    "print(\"a\", type(a))\n",
    "print(a)\n",
    "\n",
    "print(\"\\nb\", type(b))\n",
    "print(b)\n",
    "\n",
    "c = np.matrix([[1, 2], [3, 4]])\n",
    "d = np.matrix([[5, 6], [8, 9]])\n",
    "\n",
    "print(\"\\ndot product of two ndarray objects\")\n",
    "print(np.dot(a, b))\n",
    "\n",
    "print(\"\\ndot product of two matrix objects\")\n",
    "print(np.dot(c, d))\n",
    "print(\"inner:\", np.inner(c, d))"
   ]
  },
  {
   "cell_type": "code",
   "execution_count": 26,
   "metadata": {},
   "outputs": [
    {
     "data": {
      "text/plain": [
       "matrix([[21, 24],\n",
       "        [47, 54]])"
      ]
     },
     "execution_count": 26,
     "metadata": {},
     "output_type": "execute_result"
    }
   ],
   "source": [
    "c * d"
   ]
  },
  {
   "cell_type": "code",
   "execution_count": 27,
   "metadata": {},
   "outputs": [
    {
     "data": {
      "text/plain": [
       "array([0.66, 0.89, 2.76])"
      ]
     },
     "execution_count": 27,
     "metadata": {},
     "output_type": "execute_result"
    }
   ],
   "source": [
    "## Linear combinations\n",
    "x = np.matrix([[0,1,1],\n",
    "               [1,1,0],\n",
    "               [1,0,1]])\n",
    "y = ([3.65, 1.55, 3.42])\n",
    "scalars = np.linalg.solve(x,y)\n",
    "scalars"
   ]
  },
  {
   "cell_type": "code",
   "execution_count": 30,
   "metadata": {},
   "outputs": [
    {
     "data": {
      "image/png": "[encoded data removed]",
      "text/plain": [
       "<Figure size 640x480 with 1 Axes>"
      ]
     },
     "metadata": {},
     "output_type": "display_data"
    }
   ],
   "source": [
    "## Linear dependence and span\n",
    "import matplotlib.pyplot as plt\n",
    "\n",
    "x = np.arange(-10, 10)\n",
    "y = 2 * x + 1\n",
    "\n",
    "plt.figure()\n",
    "plt.plot(x, y)\n",
    "plt.xlim(-10,10)\n",
    "plt.ylim(-10,10)\n",
    "plt.axvline(x=0)\n",
    "plt.axhline(y=0)\n",
    "plt.show()"
   ]
  },
  {
   "cell_type": "code",
   "execution_count": 33,
   "metadata": {},
   "outputs": [
    {
     "data": {
      "image/png": "[encoded data removed]",
      "text/plain": [
       "<Figure size 640x480 with 1 Axes>"
      ]
     },
     "metadata": {},
     "output_type": "display_data"
    }
   ],
   "source": [
    "x = np.arange(-10,10)\n",
    "y = 2*x + 1\n",
    "y1 = 6*x - 2\n",
    "\n",
    "plt.figure()\n",
    "plt.plot(x, y)\n",
    "plt.plot(x, y1)\n",
    "plt.xlim(-2,10)\n",
    "plt.ylim(-2,10)\n",
    "plt.axvline(x=0)\n",
    "plt.axhline(y=0)\n",
    "plt.show()"
   ]
  },
  {
   "cell_type": "code",
   "execution_count": 34,
   "metadata": {},
   "outputs": [
    {
     "name": "stdout",
     "output_type": "stream",
     "text": [
      "Trace :  [[7]]\n"
     ]
    }
   ],
   "source": [
    "## Trace of a matrix\n",
    "a = np.matrix([[2, 2, 1],\n",
    "               [1, 3, 1],\n",
    "               [1, 2, 2]])\n",
    "print(\"Trace : \",a.trace())"
   ]
  },
  {
   "cell_type": "code",
   "execution_count": 35,
   "metadata": {},
   "outputs": [
    {
     "name": "stdout",
     "output_type": "stream",
     "text": [
      "Rank :  2\n"
     ]
    }
   ],
   "source": [
    "## Rank of a matrix\n",
    "a = np.arange(1, 10)\n",
    "a.shape = (3, 3)\n",
    "\n",
    "rank = np.linalg.matrix_rank(a)\n",
    "print(\"Rank : \",rank)"
   ]
  },
  {
   "cell_type": "code",
   "execution_count": 36,
   "metadata": {},
   "outputs": [
    {
     "name": "stdout",
     "output_type": "stream",
     "text": [
      "Determinant :  4.999999999999999\n"
     ]
    }
   ],
   "source": [
    "## Determinant of a matrix\n",
    "a = np.matrix([[2, 2, 1],\n",
    "               [1, 3, 1],\n",
    "               [1, 2, 2]])\n",
    "print(\"Determinant : \",np.linalg.det(a))"
   ]
  },
  {
   "cell_type": "code",
   "execution_count": 37,
   "metadata": {},
   "outputs": [
    {
     "name": "stdout",
     "output_type": "stream",
     "text": [
      "True inverse :  [[ 0.8 -0.4 -0.2]\n",
      " [-0.2  0.6 -0.2]\n",
      " [-0.2 -0.4  0.8]]\n"
     ]
    }
   ],
   "source": [
    "## True inverse \n",
    "## If det of sq matrix is not 0 it has a  true inverse\n",
    "\n",
    "det = np.linalg.det(a)\n",
    "if det!= 0:\n",
    "    inv = np.linalg.inv(a)\n",
    "    print(\"True inverse : \",inv)"
   ]
  },
  {
   "cell_type": "code",
   "execution_count": 38,
   "metadata": {},
   "outputs": [
    {
     "name": "stdout",
     "output_type": "stream",
     "text": [
      "[[2 2 1 1 3 1 1 2 2]]\n"
     ]
    }
   ],
   "source": [
    "## Flatten a martix to a vector\n",
    "\n",
    "print(a.flatten())"
   ]
  },
  {
   "cell_type": "code",
   "execution_count": 39,
   "metadata": {},
   "outputs": [
    {
     "name": "stdout",
     "output_type": "stream",
     "text": [
      "Eigen values :  [1. 5. 1.]\n",
      "Eigen vectors :  [[-0.90453403  0.57735027  0.04093652]\n",
      " [ 0.30151134  0.57735027 -0.46313831]\n",
      " [ 0.30151134  0.57735027  0.88534011]]\n"
     ]
    }
   ],
   "source": [
    "## Eigen values and vectors\n",
    "a = np.matrix([[2, 2, 1],\n",
    "               [1, 3, 1],\n",
    "               [1, 2, 2]])\n",
    "\n",
    "w, v = np.linalg.eig(a)\n",
    "\n",
    "print(\"Eigen values : \",w)\n",
    "print(\"Eigen vectors : \",v)"
   ]
  },
  {
   "cell_type": "markdown",
   "metadata": {},
   "source": [
    "Decompositions"
   ]
  },
  {
   "cell_type": "code",
   "execution_count": 47,
   "metadata": {},
   "outputs": [
    {
     "name": "stdout",
     "output_type": "stream",
     "text": [
      "Matrix A:\n",
      "[[ 2  3  1]\n",
      " [ 4  1 -3]\n",
      " [-2  4  1]]\n",
      "\n",
      "Permutation Matrix P:\n",
      "[[0. 0. 1.]\n",
      " [1. 0. 0.]\n",
      " [0. 1. 0.]]\n",
      "\n",
      "Lower Triangular Matrix L:\n",
      "[[ 1.          0.          0.        ]\n",
      " [-0.5         1.          0.        ]\n",
      " [ 0.5         0.55555556  1.        ]]\n",
      "\n",
      "Upper Triangular Matrix U:\n",
      "[[ 4.          1.         -3.        ]\n",
      " [ 0.          4.5        -0.5       ]\n",
      " [ 0.          0.          2.77777778]]\n",
      "\n",
      "Check: P @ L @ U:\n",
      "[[ 2.  3.  1.]\n",
      " [ 4.  1. -3.]\n",
      " [-2.  4.  1.]]\n"
     ]
    }
   ],
   "source": [
    "## LU decomposition\n",
    "\n",
    "import numpy as np\n",
    "from scipy.linalg import lu\n",
    "\n",
    "A = np.array([[2, 3, 1],\n",
    "              [4, 1, -3],\n",
    "              [-2, 4, 1]])\n",
    "\n",
    "# Perform LU decomposition\n",
    "P, L, U = lu(A)\n",
    "\n",
    "print(\"Matrix A:\")\n",
    "print(A)\n",
    "\n",
    "print(\"\\nPermutation Matrix P:\")\n",
    "print(P)\n",
    "\n",
    "print(\"\\nLower Triangular Matrix L:\")\n",
    "print(L)\n",
    "\n",
    "print(\"\\nUpper Triangular Matrix U:\")\n",
    "print(U)\n",
    "\n",
    "# Verify that A = P @ L @ U\n",
    "print(\"\\nCheck: P @ L @ U:\")\n",
    "print(P @ L @ U)\n"
   ]
  },
  {
   "cell_type": "code",
   "execution_count": 52,
   "metadata": {},
   "outputs": [
    {
     "name": "stdout",
     "output_type": "stream",
     "text": [
      "Matrix A:\n",
      "[[1 2]\n",
      " [3 4]\n",
      " [5 6]]\n",
      "\n",
      "Left Singular Vectors (U):\n",
      "[[-0.2298477   0.88346102  0.40824829]\n",
      " [-0.52474482  0.24078249 -0.81649658]\n",
      " [-0.81964194 -0.40189603  0.40824829]]\n",
      "\n",
      "Singular Values (s):\n",
      "[9.52551809 0.51430058]\n",
      "\n",
      "Right Singular Vectors Transposed (VT):\n",
      "[[-0.61962948 -0.78489445]\n",
      " [-0.78489445  0.61962948]]\n"
     ]
    }
   ],
   "source": [
    "import numpy as np\n",
    "from scipy.linalg import svd\n",
    "\n",
    "# Define a matrix\n",
    "A = np.array([[1, 2], [3, 4], [5, 6]])\n",
    "print(\"Matrix A:\")\n",
    "print(A)\n",
    "\n",
    "# Perform Singular Value Decomposition\n",
    "U, s, VT = svd(A)\n",
    "\n",
    "# Print the results\n",
    "print(\"\\nLeft Singular Vectors (U):\")\n",
    "print(U)\n",
    "\n",
    "print(\"\\nSingular Values (s):\")\n",
    "print(s)\n",
    "\n",
    "print(\"\\nRight Singular Vectors Transposed (VT):\")\n",
    "print(VT)\n"
   ]
  },
  {
   "cell_type": "code",
   "execution_count": 53,
   "metadata": {},
   "outputs": [
    {
     "data": {
      "text/plain": [
       "array([[-0.11290323,  0.17741935, -0.06451613],\n",
       "       [-0.37096774, -0.27419355, -0.35483871]])"
      ]
     },
     "execution_count": 53,
     "metadata": {},
     "output_type": "execute_result"
    }
   ],
   "source": [
    "# pinv used to Compute the (Moore-Penrose) pseudo-inverse of a matrix.\n",
    "\n",
    "A = np.array([[-2, -1], [4, -1], [-1, -1]])\n",
    "A_plus = np.linalg.pinv(A)\n",
    "A_plus"
   ]
  },
  {
   "cell_type": "code",
   "execution_count": 54,
   "metadata": {},
   "outputs": [
    {
     "data": {
      "image/png": "[encoded data removed]",
      "text/plain": [
       "<Figure size 640x480 with 1 Axes>"
      ]
     },
     "metadata": {},
     "output_type": "display_data"
    }
   ],
   "source": [
    "x1 = np.linspace(-5, 5, 1000)\n",
    "x2_1 = -2*x1 + 2\n",
    "x2_2 = 4*x1 + 8\n",
    "x2_3 = -1*x1 + 2\n",
    "\n",
    "plt.plot(x1, x2_1)\n",
    "plt.plot(x1, x2_2)\n",
    "plt.plot(x1, x2_3)\n",
    "plt.xlim(-2., 1)\n",
    "plt.ylim(1, 5)\n",
    "plt.show()"
   ]
  },
  {
   "cell_type": "code",
   "execution_count": null,
   "metadata": {},
   "outputs": [],
   "source": []
  }
 ],
 "metadata": {
  "kernelspec": {
   "display_name": "Python 3",
   "language": "python",
   "name": "python3"
  },
  "language_info": {
   "codemirror_mode": {
    "name": "ipython",
    "version": 3
   },
   "file_extension": ".py",
   "mimetype": "text/x-python",
   "name": "python",
   "nbconvert_exporter": "python",
   "pygments_lexer": "ipython3",
   "version": "3.12.1"
  }
 },
 "nbformat": 4,
 "nbformat_minor": 2
}
