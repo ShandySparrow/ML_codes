{
 "cells": [
  {
   "cell_type": "code",
   "execution_count": 2,
   "id": "a8b561e2",
   "metadata": {},
   "outputs": [],
   "source": [
    "import pandas as pd \n",
    "import numpy as np\n",
    "import matplotlib.pyplot as plt\n",
    "from sklearn.decomposition import PCA\n",
    "from sklearn.preprocessing import StandardScaler\n",
    "%matplotlib inline"
   ]
  },
  {
   "cell_type": "code",
   "execution_count": 3,
   "id": "b4b94fc1",
   "metadata": {},
   "outputs": [],
   "source": [
    "url = \"https://archive.ics.uci.edu/ml/machine-learning-databases/iris/iris.data\""
   ]
  },
  {
   "cell_type": "code",
   "execution_count": 5,
   "id": "0a18dffb",
   "metadata": {},
   "outputs": [],
   "source": [
    "# df = pd.read_csv(url, names=['sepal length','sepal width','petal length','petal width','target'])\n",
    "df = pd.read_csv('iris.csv', header=None)"
   ]
  },
  {
   "cell_type": "code",
   "execution_count": 9,
   "id": "09869fdc",
   "metadata": {},
   "outputs": [
    {
     "name": "stdout",
     "output_type": "stream",
     "text": [
      "[['5.1' '3.5' '1.4' '0.2']\n",
      " ['4.9' '3.0' '1.4' '0.2']\n",
      " ['4.7' '3.2' '1.3' '0.2']\n",
      " ['4.6' '3.1' '1.5' '0.2']\n",
      " ['5.0' '3.6' '1.4' '0.2']\n",
      " ['5.4' '3.9' '1.7' '0.4']\n",
      " ['4.6' '3.4' '1.4' '0.3']\n",
      " ['5.0' '3.4' '1.5' '0.2']\n",
      " ['4.4' '2.9' '1.4' '0.2']\n",
      " ['4.9' '3.1' '1.5' '0.1']\n",
      " ['5.4' '3.7' '1.5' '0.2']\n",
      " ['4.8' '3.4' '1.6' '0.2']\n",
      " ['4.8' '3.0' '1.4' '0.1']\n",
      " ['4.3' '3.0' '1.1' '0.1']\n",
      " ['5.8' '4.0' '1.2' '0.2']\n",
      " ['5.7' '4.4' '1.5' '0.4']\n",
      " ['5.4' '3.9' '1.3' '0.4']\n",
      " ['5.1' '3.5' '1.4' '0.3']\n",
      " ['5.7' '3.8' '1.7' '0.3']\n",
      " ['5.1' '3.8' '1.5' '0.3']\n",
      " ['5.4' '3.4' '1.7' '0.2']\n",
      " ['5.1' '3.7' '1.5' '0.4']\n",
      " ['4.6' '3.6' '1.0' '0.2']\n",
      " ['5.1' '3.3' '1.7' '0.5']\n",
      " ['4.8' '3.4' '1.9' '0.2']\n",
      " ['5.0' '3.0' '1.6' '0.2']\n",
      " ['5.0' '3.4' '1.6' '0.4']\n",
      " ['5.2' '3.5' '1.5' '0.2']\n",
      " ['5.2' '3.4' '1.4' '0.2']\n",
      " ['4.7' '3.2' '1.6' '0.2']\n",
      " ['4.8' '3.1' '1.6' '0.2']\n",
      " ['5.4' '3.4' '1.5' '0.4']\n",
      " ['5.2' '4.1' '1.5' '0.1']\n",
      " ['5.5' '4.2' '1.4' '0.2']\n",
      " ['4.9' '3.1' '1.5' '0.1']\n",
      " ['5.0' '3.2' '1.2' '0.2']\n",
      " ['5.5' '3.5' '1.3' '0.2']\n",
      " ['4.9' '3.1' '1.5' '0.1']\n",
      " ['4.4' '3.0' '1.3' '0.2']\n",
      " ['5.1' '3.4' '1.5' '0.2']\n",
      " ['5.0' '3.5' '1.3' '0.3']\n",
      " ['4.5' '2.3' '1.3' '0.3']\n",
      " ['4.4' '3.2' '1.3' '0.2']\n",
      " ['5.0' '3.5' '1.6' '0.6']\n",
      " ['5.1' '3.8' '1.9' '0.4']\n",
      " ['4.8' '3.0' '1.4' '0.3']\n",
      " ['5.1' '3.8' '1.6' '0.2']\n",
      " ['4.6' '3.2' '1.4' '0.2']\n",
      " ['5.3' '3.7' '1.5' '0.2']\n",
      " ['5.0' '3.3' '1.4' '0.2']\n",
      " ['7.0' '3.2' '4.7' '1.4']\n",
      " ['6.4' '3.2' '4.5' '1.5']\n",
      " ['6.9' '3.1' '4.9' '1.5']\n",
      " ['5.5' '2.3' '4.0' '1.3']\n",
      " ['6.5' '2.8' '4.6' '1.5']\n",
      " ['5.7' '2.8' '4.5' '1.3']\n",
      " ['6.3' '3.3' '4.7' '1.6']\n",
      " ['4.9' '2.4' '3.3' '1.0']\n",
      " ['6.6' '2.9' '4.6' '1.3']\n",
      " ['5.2' '2.7' '3.9' '1.4']\n",
      " ['5.0' '2.0' '3.5' '1.0']\n",
      " ['5.9' '3.0' '4.2' '1.5']\n",
      " ['6.0' '2.2' '4.0' '1.0']\n",
      " ['6.1' '2.9' '4.7' '1.4']\n",
      " ['5.6' '2.9' '3.6' '1.3']\n",
      " ['6.7' '3.1' '4.4' '1.4']\n",
      " ['5.6' '3.0' '4.5' '1.5']\n",
      " ['5.8' '2.7' '4.1' '1.0']\n",
      " ['6.2' '2.2' '4.5' '1.5']\n",
      " ['5.6' '2.5' '3.9' '1.1']\n",
      " ['5.9' '3.2' '4.8' '1.8']\n",
      " ['6.1' '2.8' '4.0' '1.3']\n",
      " ['6.3' '2.5' '4.9' '1.5']\n",
      " ['6.1' '2.8' '4.7' '1.2']\n",
      " ['6.4' '2.9' '4.3' '1.3']\n",
      " ['6.6' '3.0' '4.4' '1.4']\n",
      " ['6.8' '2.8' '4.8' '1.4']\n",
      " ['6.7' '3.0' '5.0' '1.7']\n",
      " ['6.0' '2.9' '4.5' '1.5']\n",
      " ['5.7' '2.6' '3.5' '1.0']\n",
      " ['5.5' '2.4' '3.8' '1.1']\n",
      " ['5.5' '2.4' '3.7' '1.0']\n",
      " ['5.8' '2.7' '3.9' '1.2']\n",
      " ['6.0' '2.7' '5.1' '1.6']\n",
      " ['5.4' '3.0' '4.5' '1.5']\n",
      " ['6.0' '3.4' '4.5' '1.6']\n",
      " ['6.7' '3.1' '4.7' '1.5']\n",
      " ['6.3' '2.3' '4.4' '1.3']\n",
      " ['5.6' '3.0' '4.1' '1.3']\n",
      " ['5.5' '2.5' '4.0' '1.3']\n",
      " ['5.5' '2.6' '4.4' '1.2']\n",
      " ['6.1' '3.0' '4.6' '1.4']\n",
      " ['5.8' '2.6' '4.0' '1.2']\n",
      " ['5.0' '2.3' '3.3' '1.0']\n",
      " ['5.6' '2.7' '4.2' '1.3']\n",
      " ['5.7' '3.0' '4.2' '1.2']\n",
      " ['5.7' '2.9' '4.2' '1.3']\n",
      " ['6.2' '2.9' '4.3' '1.3']\n",
      " ['5.1' '2.5' '3.0' '1.1']\n",
      " ['5.7' '2.8' '4.1' '1.3']\n",
      " ['6.3' '3.3' '6.0' '2.5']\n",
      " ['5.8' '2.7' '5.1' '1.9']\n",
      " ['7.1' '3.0' '5.9' '2.1']\n",
      " ['6.3' '2.9' '5.6' '1.8']\n",
      " ['6.5' '3.0' '5.8' '2.2']\n",
      " ['7.6' '3.0' '6.6' '2.1']\n",
      " ['4.9' '2.5' '4.5' '1.7']\n",
      " ['7.3' '2.9' '6.3' '1.8']\n",
      " ['6.7' '2.5' '5.8' '1.8']\n",
      " ['7.2' '3.6' '6.1' '2.5']\n",
      " ['6.5' '3.2' '5.1' '2.0']\n",
      " ['6.4' '2.7' '5.3' '1.9']\n",
      " ['6.8' '3.0' '5.5' '2.1']\n",
      " ['5.7' '2.5' '5.0' '2.0']\n",
      " ['5.8' '2.8' '5.1' '2.4']\n",
      " ['6.4' '3.2' '5.3' '2.3']\n",
      " ['6.5' '3.0' '5.5' '1.8']\n",
      " ['7.7' '3.8' '6.7' '2.2']\n",
      " ['7.7' '2.6' '6.9' '2.3']\n",
      " ['6.0' '2.2' '5.0' '1.5']\n",
      " ['6.9' '3.2' '5.7' '2.3']\n",
      " ['5.6' '2.8' '4.9' '2.0']\n",
      " ['7.7' '2.8' '6.7' '2.0']\n",
      " ['6.3' '2.7' '4.9' '1.8']\n",
      " ['6.7' '3.3' '5.7' '2.1']\n",
      " ['7.2' '3.2' '6.0' '1.8']\n",
      " ['6.2' '2.8' '4.8' '1.8']\n",
      " ['6.1' '3.0' '4.9' '1.8']\n",
      " ['6.4' '2.8' '5.6' '2.1']\n",
      " ['7.2' '3.0' '5.8' '1.6']\n",
      " ['7.4' '2.8' '6.1' '1.9']\n",
      " ['7.9' '3.8' '6.4' '2.0']\n",
      " ['6.4' '2.8' '5.6' '2.2']\n",
      " ['6.3' '2.8' '5.1' '1.5']\n",
      " ['6.1' '2.6' '5.6' '1.4']\n",
      " ['7.7' '3.0' '6.1' '2.3']\n",
      " ['6.3' '3.4' '5.6' '2.4']\n",
      " ['6.4' '3.1' '5.5' '1.8']\n",
      " ['6.0' '3.0' '4.8' '1.8']\n",
      " ['6.9' '3.1' '5.4' '2.1']\n",
      " ['6.7' '3.1' '5.6' '2.4']\n",
      " ['6.9' '3.1' '5.1' '2.3']\n",
      " ['5.8' '2.7' '5.1' '1.9']\n",
      " ['6.8' '3.2' '5.9' '2.3']\n",
      " ['6.7' '3.3' '5.7' '2.5']\n",
      " ['6.7' '3.0' '5.2' '2.3']\n",
      " ['6.3' '2.5' '5.0' '1.9']\n",
      " ['6.5' '3.0' '5.2' '2.0']\n",
      " ['6.2' '3.4' '5.4' '2.3']\n",
      " ['5.9' '3.0' '5.1' '1.8']]\n"
     ]
    }
   ],
   "source": [
    "features = ['sepal length', 'sepal width', 'petal length', 'petal width']\n",
    "x = df.loc[1:, 1:4].values\n",
    "print(x)"
   ]
  },
  {
   "cell_type": "code",
   "execution_count": 13,
   "id": "3b7fbfb8",
   "metadata": {},
   "outputs": [
    {
     "name": "stdout",
     "output_type": "stream",
     "text": [
      "['Iris-setosa' 'Iris-setosa' 'Iris-setosa' 'Iris-setosa' 'Iris-setosa'\n",
      " 'Iris-setosa' 'Iris-setosa' 'Iris-setosa' 'Iris-setosa' 'Iris-setosa'\n",
      " 'Iris-setosa' 'Iris-setosa' 'Iris-setosa' 'Iris-setosa' 'Iris-setosa'\n",
      " 'Iris-setosa' 'Iris-setosa' 'Iris-setosa' 'Iris-setosa' 'Iris-setosa'\n",
      " 'Iris-setosa' 'Iris-setosa' 'Iris-setosa' 'Iris-setosa' 'Iris-setosa'\n",
      " 'Iris-setosa' 'Iris-setosa' 'Iris-setosa' 'Iris-setosa' 'Iris-setosa'\n",
      " 'Iris-setosa' 'Iris-setosa' 'Iris-setosa' 'Iris-setosa' 'Iris-setosa'\n",
      " 'Iris-setosa' 'Iris-setosa' 'Iris-setosa' 'Iris-setosa' 'Iris-setosa'\n",
      " 'Iris-setosa' 'Iris-setosa' 'Iris-setosa' 'Iris-setosa' 'Iris-setosa'\n",
      " 'Iris-setosa' 'Iris-setosa' 'Iris-setosa' 'Iris-setosa' 'Iris-setosa'\n",
      " 'Iris-versicolor' 'Iris-versicolor' 'Iris-versicolor' 'Iris-versicolor'\n",
      " 'Iris-versicolor' 'Iris-versicolor' 'Iris-versicolor' 'Iris-versicolor'\n",
      " 'Iris-versicolor' 'Iris-versicolor' 'Iris-versicolor' 'Iris-versicolor'\n",
      " 'Iris-versicolor' 'Iris-versicolor' 'Iris-versicolor' 'Iris-versicolor'\n",
      " 'Iris-versicolor' 'Iris-versicolor' 'Iris-versicolor' 'Iris-versicolor'\n",
      " 'Iris-versicolor' 'Iris-versicolor' 'Iris-versicolor' 'Iris-versicolor'\n",
      " 'Iris-versicolor' 'Iris-versicolor' 'Iris-versicolor' 'Iris-versicolor'\n",
      " 'Iris-versicolor' 'Iris-versicolor' 'Iris-versicolor' 'Iris-versicolor'\n",
      " 'Iris-versicolor' 'Iris-versicolor' 'Iris-versicolor' 'Iris-versicolor'\n",
      " 'Iris-versicolor' 'Iris-versicolor' 'Iris-versicolor' 'Iris-versicolor'\n",
      " 'Iris-versicolor' 'Iris-versicolor' 'Iris-versicolor' 'Iris-versicolor'\n",
      " 'Iris-versicolor' 'Iris-versicolor' 'Iris-versicolor' 'Iris-versicolor'\n",
      " 'Iris-versicolor' 'Iris-versicolor' 'Iris-virginica' 'Iris-virginica'\n",
      " 'Iris-virginica' 'Iris-virginica' 'Iris-virginica' 'Iris-virginica'\n",
      " 'Iris-virginica' 'Iris-virginica' 'Iris-virginica' 'Iris-virginica'\n",
      " 'Iris-virginica' 'Iris-virginica' 'Iris-virginica' 'Iris-virginica'\n",
      " 'Iris-virginica' 'Iris-virginica' 'Iris-virginica' 'Iris-virginica'\n",
      " 'Iris-virginica' 'Iris-virginica' 'Iris-virginica' 'Iris-virginica'\n",
      " 'Iris-virginica' 'Iris-virginica' 'Iris-virginica' 'Iris-virginica'\n",
      " 'Iris-virginica' 'Iris-virginica' 'Iris-virginica' 'Iris-virginica'\n",
      " 'Iris-virginica' 'Iris-virginica' 'Iris-virginica' 'Iris-virginica'\n",
      " 'Iris-virginica' 'Iris-virginica' 'Iris-virginica' 'Iris-virginica'\n",
      " 'Iris-virginica' 'Iris-virginica' 'Iris-virginica' 'Iris-virginica'\n",
      " 'Iris-virginica' 'Iris-virginica' 'Iris-virginica' 'Iris-virginica'\n",
      " 'Iris-virginica' 'Iris-virginica' 'Iris-virginica' 'Iris-virginica']\n"
     ]
    }
   ],
   "source": [
    "y = df.loc[1:,5].values\n",
    "print(y)"
   ]
  },
  {
   "cell_type": "code",
   "execution_count": 14,
   "id": "a4cff737",
   "metadata": {},
   "outputs": [],
   "source": [
    "x = StandardScaler().fit_transform(x)"
   ]
  },
  {
   "cell_type": "code",
   "execution_count": 41,
   "id": "8d0da57e",
   "metadata": {},
   "outputs": [
    {
     "data": {
      "text/plain": [
       "(150, 4)"
      ]
     },
     "execution_count": 41,
     "metadata": {},
     "output_type": "execute_result"
    }
   ],
   "source": [
    "x.shape"
   ]
  },
  {
   "cell_type": "code",
   "execution_count": 15,
   "id": "3aaffc46",
   "metadata": {},
   "outputs": [
    {
     "data": {
      "text/html": [
       "<div>\n",
       "<style scoped>\n",
       "    .dataframe tbody tr th:only-of-type {\n",
       "        vertical-align: middle;\n",
       "    }\n",
       "\n",
       "    .dataframe tbody tr th {\n",
       "        vertical-align: top;\n",
       "    }\n",
       "\n",
       "    .dataframe thead th {\n",
       "        text-align: right;\n",
       "    }\n",
       "</style>\n",
       "<table border=\"1\" class=\"dataframe\">\n",
       "  <thead>\n",
       "    <tr style=\"text-align: right;\">\n",
       "      <th></th>\n",
       "      <th>sepal length</th>\n",
       "      <th>sepal width</th>\n",
       "      <th>petal length</th>\n",
       "      <th>petal width</th>\n",
       "    </tr>\n",
       "  </thead>\n",
       "  <tbody>\n",
       "    <tr>\n",
       "      <th>0</th>\n",
       "      <td>-0.900681</td>\n",
       "      <td>1.032057</td>\n",
       "      <td>-1.341272</td>\n",
       "      <td>-1.312977</td>\n",
       "    </tr>\n",
       "    <tr>\n",
       "      <th>1</th>\n",
       "      <td>-1.143017</td>\n",
       "      <td>-0.124958</td>\n",
       "      <td>-1.341272</td>\n",
       "      <td>-1.312977</td>\n",
       "    </tr>\n",
       "    <tr>\n",
       "      <th>2</th>\n",
       "      <td>-1.385353</td>\n",
       "      <td>0.337848</td>\n",
       "      <td>-1.398138</td>\n",
       "      <td>-1.312977</td>\n",
       "    </tr>\n",
       "    <tr>\n",
       "      <th>3</th>\n",
       "      <td>-1.506521</td>\n",
       "      <td>0.106445</td>\n",
       "      <td>-1.284407</td>\n",
       "      <td>-1.312977</td>\n",
       "    </tr>\n",
       "    <tr>\n",
       "      <th>4</th>\n",
       "      <td>-1.021849</td>\n",
       "      <td>1.263460</td>\n",
       "      <td>-1.341272</td>\n",
       "      <td>-1.312977</td>\n",
       "    </tr>\n",
       "  </tbody>\n",
       "</table>\n",
       "</div>"
      ],
      "text/plain": [
       "   sepal length  sepal width  petal length  petal width\n",
       "0     -0.900681     1.032057     -1.341272    -1.312977\n",
       "1     -1.143017    -0.124958     -1.341272    -1.312977\n",
       "2     -1.385353     0.337848     -1.398138    -1.312977\n",
       "3     -1.506521     0.106445     -1.284407    -1.312977\n",
       "4     -1.021849     1.263460     -1.341272    -1.312977"
      ]
     },
     "execution_count": 15,
     "metadata": {},
     "output_type": "execute_result"
    }
   ],
   "source": [
    "pd.DataFrame(data = x, columns = features).head()"
   ]
  },
  {
   "cell_type": "code",
   "execution_count": 16,
   "id": "be49de71",
   "metadata": {},
   "outputs": [
    {
     "name": "stdout",
     "output_type": "stream",
     "text": [
      "PCA(n_components=3)\n"
     ]
    }
   ],
   "source": [
    "pca = PCA(n_components=3)\n",
    "print(pca)"
   ]
  },
  {
   "cell_type": "code",
   "execution_count": 17,
   "id": "8f1830cc",
   "metadata": {},
   "outputs": [],
   "source": [
    "principalComponents = pca.fit_transform(x)"
   ]
  },
  {
   "cell_type": "code",
   "execution_count": 18,
   "id": "c7bad4c2",
   "metadata": {},
   "outputs": [],
   "source": [
    "principalDf = pd.DataFrame(data = principalComponents\n",
    "             , columns = ['principal component 1', 'principal component 2','principal component 3'])"
   ]
  },
  {
   "cell_type": "code",
   "execution_count": 42,
   "id": "a75e4018",
   "metadata": {},
   "outputs": [
    {
     "data": {
      "text/html": [
       "<div>\n",
       "<style scoped>\n",
       "    .dataframe tbody tr th:only-of-type {\n",
       "        vertical-align: middle;\n",
       "    }\n",
       "\n",
       "    .dataframe tbody tr th {\n",
       "        vertical-align: top;\n",
       "    }\n",
       "\n",
       "    .dataframe thead th {\n",
       "        text-align: right;\n",
       "    }\n",
       "</style>\n",
       "<table border=\"1\" class=\"dataframe\">\n",
       "  <thead>\n",
       "    <tr style=\"text-align: right;\">\n",
       "      <th></th>\n",
       "      <th>principal component 1</th>\n",
       "      <th>principal component 2</th>\n",
       "      <th>principal component 3</th>\n",
       "    </tr>\n",
       "  </thead>\n",
       "  <tbody>\n",
       "    <tr>\n",
       "      <th>0</th>\n",
       "      <td>-2.264542</td>\n",
       "      <td>0.505704</td>\n",
       "      <td>-0.121943</td>\n",
       "    </tr>\n",
       "    <tr>\n",
       "      <th>1</th>\n",
       "      <td>-2.086426</td>\n",
       "      <td>-0.655405</td>\n",
       "      <td>-0.227251</td>\n",
       "    </tr>\n",
       "    <tr>\n",
       "      <th>2</th>\n",
       "      <td>-2.367950</td>\n",
       "      <td>-0.318477</td>\n",
       "      <td>0.051480</td>\n",
       "    </tr>\n",
       "    <tr>\n",
       "      <th>3</th>\n",
       "      <td>-2.304197</td>\n",
       "      <td>-0.575368</td>\n",
       "      <td>0.098860</td>\n",
       "    </tr>\n",
       "    <tr>\n",
       "      <th>4</th>\n",
       "      <td>-2.388777</td>\n",
       "      <td>0.674767</td>\n",
       "      <td>0.021428</td>\n",
       "    </tr>\n",
       "  </tbody>\n",
       "</table>\n",
       "</div>"
      ],
      "text/plain": [
       "   principal component 1  principal component 2  principal component 3\n",
       "0              -2.264542               0.505704              -0.121943\n",
       "1              -2.086426              -0.655405              -0.227251\n",
       "2              -2.367950              -0.318477               0.051480\n",
       "3              -2.304197              -0.575368               0.098860\n",
       "4              -2.388777               0.674767               0.021428"
      ]
     },
     "execution_count": 42,
     "metadata": {},
     "output_type": "execute_result"
    }
   ],
   "source": [
    "principalDf.head(5)"
   ]
  },
  {
   "cell_type": "code",
   "execution_count": 43,
   "id": "2b8cb4eb",
   "metadata": {},
   "outputs": [
    {
     "data": {
      "text/plain": [
       "(150, 3)"
      ]
     },
     "execution_count": 43,
     "metadata": {},
     "output_type": "execute_result"
    }
   ],
   "source": [
    "principalDf.shape"
   ]
  },
  {
   "cell_type": "code",
   "execution_count": 44,
   "id": "5fcf3bb7",
   "metadata": {},
   "outputs": [
    {
     "data": {
      "text/plain": [
       "1    Iris-setosa\n",
       "2    Iris-setosa\n",
       "3    Iris-setosa\n",
       "4    Iris-setosa\n",
       "5    Iris-setosa\n",
       "Name: 5, dtype: object"
      ]
     },
     "execution_count": 44,
     "metadata": {},
     "output_type": "execute_result"
    }
   ],
   "source": [
    "df.iloc[1:,5].head()"
   ]
  },
  {
   "cell_type": "code",
   "execution_count": 45,
   "id": "b0cc568a",
   "metadata": {},
   "outputs": [
    {
     "data": {
      "text/plain": [
       "(150,)"
      ]
     },
     "execution_count": 45,
     "metadata": {},
     "output_type": "execute_result"
    }
   ],
   "source": [
    "df.iloc[1:,5].shape"
   ]
  },
  {
   "cell_type": "code",
   "execution_count": 53,
   "id": "385f7a4f",
   "metadata": {},
   "outputs": [],
   "source": [
    "Y = pd.DataFrame(y, columns=['target'])"
   ]
  },
  {
   "cell_type": "code",
   "execution_count": 54,
   "id": "d4a4e2b9",
   "metadata": {},
   "outputs": [
    {
     "data": {
      "text/html": [
       "<div>\n",
       "<style scoped>\n",
       "    .dataframe tbody tr th:only-of-type {\n",
       "        vertical-align: middle;\n",
       "    }\n",
       "\n",
       "    .dataframe tbody tr th {\n",
       "        vertical-align: top;\n",
       "    }\n",
       "\n",
       "    .dataframe thead th {\n",
       "        text-align: right;\n",
       "    }\n",
       "</style>\n",
       "<table border=\"1\" class=\"dataframe\">\n",
       "  <thead>\n",
       "    <tr style=\"text-align: right;\">\n",
       "      <th></th>\n",
       "      <th>principal component 1</th>\n",
       "      <th>principal component 2</th>\n",
       "      <th>principal component 3</th>\n",
       "      <th>target</th>\n",
       "    </tr>\n",
       "  </thead>\n",
       "  <tbody>\n",
       "    <tr>\n",
       "      <th>0</th>\n",
       "      <td>-2.264542</td>\n",
       "      <td>0.505704</td>\n",
       "      <td>-0.121943</td>\n",
       "      <td>Iris-setosa</td>\n",
       "    </tr>\n",
       "    <tr>\n",
       "      <th>1</th>\n",
       "      <td>-2.086426</td>\n",
       "      <td>-0.655405</td>\n",
       "      <td>-0.227251</td>\n",
       "      <td>Iris-setosa</td>\n",
       "    </tr>\n",
       "    <tr>\n",
       "      <th>2</th>\n",
       "      <td>-2.367950</td>\n",
       "      <td>-0.318477</td>\n",
       "      <td>0.051480</td>\n",
       "      <td>Iris-setosa</td>\n",
       "    </tr>\n",
       "    <tr>\n",
       "      <th>3</th>\n",
       "      <td>-2.304197</td>\n",
       "      <td>-0.575368</td>\n",
       "      <td>0.098860</td>\n",
       "      <td>Iris-setosa</td>\n",
       "    </tr>\n",
       "    <tr>\n",
       "      <th>4</th>\n",
       "      <td>-2.388777</td>\n",
       "      <td>0.674767</td>\n",
       "      <td>0.021428</td>\n",
       "      <td>Iris-setosa</td>\n",
       "    </tr>\n",
       "  </tbody>\n",
       "</table>\n",
       "</div>"
      ],
      "text/plain": [
       "   principal component 1  principal component 2  principal component 3  \\\n",
       "0              -2.264542               0.505704              -0.121943   \n",
       "1              -2.086426              -0.655405              -0.227251   \n",
       "2              -2.367950              -0.318477               0.051480   \n",
       "3              -2.304197              -0.575368               0.098860   \n",
       "4              -2.388777               0.674767               0.021428   \n",
       "\n",
       "        target  \n",
       "0  Iris-setosa  \n",
       "1  Iris-setosa  \n",
       "2  Iris-setosa  \n",
       "3  Iris-setosa  \n",
       "4  Iris-setosa  "
      ]
     },
     "execution_count": 54,
     "metadata": {},
     "output_type": "execute_result"
    }
   ],
   "source": [
    "finalDf = pd.concat([principalDf, Y], axis = 1)\n",
    "finalDf.head(5)"
   ]
  },
  {
   "cell_type": "code",
   "execution_count": 56,
   "id": "497330eb",
   "metadata": {},
   "outputs": [
    {
     "data": {
      "text/plain": [
       "(150, 4)"
      ]
     },
     "execution_count": 56,
     "metadata": {},
     "output_type": "execute_result"
    }
   ],
   "source": [
    "finalDf.shape"
   ]
  },
  {
   "cell_type": "code",
   "execution_count": 57,
   "id": "983f57a8",
   "metadata": {},
   "outputs": [
    {
     "data": {
      "image/png": "[encoded data removed]",
      "text/plain": [
       "<Figure size 800x800 with 1 Axes>"
      ]
     },
     "metadata": {},
     "output_type": "display_data"
    }
   ],
   "source": [
    "fig = plt.figure(figsize = (8,8))\n",
    "ax = fig.add_subplot(1,1,1) \n",
    "ax.set_xlabel('Principal Component 1', fontsize = 15)\n",
    "ax.set_ylabel('Principal Component 2', fontsize = 15)\n",
    "ax.set_title('3 Component PCA', fontsize = 20)\n",
    "\n",
    "targets = ['Iris-setosa', 'Iris-versicolor', 'Iris-virginica']\n",
    "colors = ['r', 'g', 'b']\n",
    "for target, color in zip(targets,colors):\n",
    "    indicesToKeep = finalDf['target'] == target\n",
    "    ax.scatter(finalDf.loc[indicesToKeep, 'principal component 1']\n",
    "               , finalDf.loc[indicesToKeep, 'principal component 2']\n",
    "               , c = color\n",
    "               , s = 50)\n",
    "ax.legend(targets)\n",
    "ax.grid()"
   ]
  },
  {
   "cell_type": "code",
   "execution_count": 58,
   "id": "581bbe13",
   "metadata": {},
   "outputs": [
    {
     "data": {
      "text/plain": [
       "array([0.72770452, 0.23030523, 0.03683832])"
      ]
     },
     "execution_count": 58,
     "metadata": {},
     "output_type": "execute_result"
    }
   ],
   "source": [
    "pca.explained_variance_ratio_"
   ]
  },
  {
   "cell_type": "code",
   "execution_count": null,
   "id": "3ca272df",
   "metadata": {},
   "outputs": [],
   "source": []
  }
 ],
 "metadata": {
  "kernelspec": {
   "display_name": "Python 3",
   "language": "python",
   "name": "python3"
  },
  "language_info": {
   "codemirror_mode": {
    "name": "ipython",
    "version": 3
   },
   "file_extension": ".py",
   "mimetype": "text/x-python",
   "name": "python",
   "nbconvert_exporter": "python",
   "pygments_lexer": "ipython3",
   "version": "3.12.1"
  }
 },
 "nbformat": 4,
 "nbformat_minor": 5
}
