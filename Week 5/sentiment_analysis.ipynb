{
 "cells": [
  {
   "cell_type": "code",
   "execution_count": 1,
   "metadata": {},
   "outputs": [
    {
     "name": "stderr",
     "output_type": "stream",
     "text": [
      "/Users/santhoshrajesh/anaconda3/envs/transformers/lib/python3.8/site-packages/tqdm/auto.py:21: TqdmWarning: IProgress not found. Please update jupyter and ipywidgets. See https://ipywidgets.readthedocs.io/en/stable/user_install.html\n",
      "  from .autonotebook import tqdm as notebook_tqdm\n",
      "No model was supplied, defaulted to distilbert-base-uncased-finetuned-sst-2-english and revision af0f99b (https://huggingface.co/distilbert-base-uncased-finetuned-sst-2-english).\n",
      "Using a pipeline without specifying a model name and revision in production is not recommended.\n",
      "Xformers is not installed correctly. If you want to use memory_efficient_attention to accelerate training use the following command to install Xformers\n",
      "pip install xformers.\n"
     ]
    },
    {
     "name": "stdout",
     "output_type": "stream",
     "text": [
      "Sentence: I love this product! It's amazing.\n",
      "Sentiment: POSITIVE (Confidence: 1.00)\n",
      "\n",
      "Sentence: This movie was terrible. I hated it.\n",
      "Sentiment: NEGATIVE (Confidence: 1.00)\n",
      "\n",
      "Sentence: The service at this restaurant was excellent.\n",
      "Sentiment: POSITIVE (Confidence: 1.00)\n",
      "\n",
      "Sentence: I'm not sure about this book. It's okay, but not great.\n",
      "Sentiment: NEGATIVE (Confidence: 1.00)\n",
      "\n"
     ]
    }
   ],
   "source": [
    "from transformers import pipeline\n",
    "\n",
    "# Load the sentiment analysis pipeline with a pre-trained BERT model\n",
    "sentiment_classifier = pipeline(\"sentiment-analysis\")\n",
    "\n",
    "# Example sentences for sentiment analysis\n",
    "sentences = [\n",
    "    \"I love this product! It's amazing.\",\n",
    "    \"This movie was terrible. I hated it.\",\n",
    "    \"The service at this restaurant was excellent.\",\n",
    "    \"I'm not sure about this book. It's okay, but not great.\",\n",
    "]\n",
    "\n",
    "# Perform sentiment analysis on each sentence\n",
    "for sentence in sentences:\n",
    "    result = sentiment_classifier(sentence)\n",
    "    print(f\"Sentence: {sentence}\")\n",
    "    print(f\"Sentiment: {result[0]['label']} (Confidence: {result[0]['score']:.2f})\")\n",
    "    print()\n"
   ]
  },
  {
   "cell_type": "code",
   "execution_count": null,
   "metadata": {},
   "outputs": [],
   "source": []
  }
 ],
 "metadata": {
  "kernelspec": {
   "display_name": "transformers",
   "language": "python",
   "name": "python3"
  },
  "language_info": {
   "codemirror_mode": {
    "name": "ipython",
    "version": 3
   },
   "file_extension": ".py",
   "mimetype": "text/x-python",
   "name": "python",
   "nbconvert_exporter": "python",
   "pygments_lexer": "ipython3",
   "version": "3.8.18"
  }
 },
 "nbformat": 4,
 "nbformat_minor": 2
}
