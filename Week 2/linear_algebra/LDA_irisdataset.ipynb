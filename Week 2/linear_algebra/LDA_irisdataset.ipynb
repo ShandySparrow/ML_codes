{
 "cells": [
  {
   "cell_type": "markdown",
   "metadata": {},
   "source": [
    "# Import necessary libraries"
   ]
  },
  {
   "cell_type": "code",
   "execution_count": 3,
   "metadata": {},
   "outputs": [],
   "source": [
    "import numpy as np\n",
    "import pandas as pd\n",
    "import matplotlib.pyplot as plt\n",
    "import seaborn as sns\n",
    "np.set_printoptions(precision=4)"
   ]
  },
  {
   "cell_type": "markdown",
   "metadata": {},
   "source": [
    "# Read dataset"
   ]
  },
  {
   "cell_type": "code",
   "execution_count": 25,
   "metadata": {},
   "outputs": [],
   "source": [
    "df = pd.read_csv('iris.csv', header=None)"
   ]
  },
  {
   "cell_type": "code",
   "execution_count": 45,
   "metadata": {},
   "outputs": [
    {
     "data": {
      "text/html": [
       "<div>\n",
       "<style scoped>\n",
       "    .dataframe tbody tr th:only-of-type {\n",
       "        vertical-align: middle;\n",
       "    }\n",
       "\n",
       "    .dataframe tbody tr th {\n",
       "        vertical-align: top;\n",
       "    }\n",
       "\n",
       "    .dataframe thead th {\n",
       "        text-align: right;\n",
       "    }\n",
       "</style>\n",
       "<table border=\"1\" class=\"dataframe\">\n",
       "  <thead>\n",
       "    <tr style=\"text-align: right;\">\n",
       "      <th></th>\n",
       "      <th>0</th>\n",
       "      <th>1</th>\n",
       "      <th>2</th>\n",
       "      <th>3</th>\n",
       "      <th>4</th>\n",
       "      <th>5</th>\n",
       "    </tr>\n",
       "  </thead>\n",
       "  <tbody>\n",
       "    <tr>\n",
       "      <th>0</th>\n",
       "      <td>Id</td>\n",
       "      <td>SepalLengthCm</td>\n",
       "      <td>SepalWidthCm</td>\n",
       "      <td>PetalLengthCm</td>\n",
       "      <td>PetalWidthCm</td>\n",
       "      <td>Species</td>\n",
       "    </tr>\n",
       "    <tr>\n",
       "      <th>1</th>\n",
       "      <td>1</td>\n",
       "      <td>5.1</td>\n",
       "      <td>3.5</td>\n",
       "      <td>1.4</td>\n",
       "      <td>0.2</td>\n",
       "      <td>Iris-setosa</td>\n",
       "    </tr>\n",
       "    <tr>\n",
       "      <th>2</th>\n",
       "      <td>2</td>\n",
       "      <td>4.9</td>\n",
       "      <td>3.0</td>\n",
       "      <td>1.4</td>\n",
       "      <td>0.2</td>\n",
       "      <td>Iris-setosa</td>\n",
       "    </tr>\n",
       "    <tr>\n",
       "      <th>3</th>\n",
       "      <td>3</td>\n",
       "      <td>4.7</td>\n",
       "      <td>3.2</td>\n",
       "      <td>1.3</td>\n",
       "      <td>0.2</td>\n",
       "      <td>Iris-setosa</td>\n",
       "    </tr>\n",
       "    <tr>\n",
       "      <th>4</th>\n",
       "      <td>4</td>\n",
       "      <td>4.6</td>\n",
       "      <td>3.1</td>\n",
       "      <td>1.5</td>\n",
       "      <td>0.2</td>\n",
       "      <td>Iris-setosa</td>\n",
       "    </tr>\n",
       "    <tr>\n",
       "      <th>...</th>\n",
       "      <td>...</td>\n",
       "      <td>...</td>\n",
       "      <td>...</td>\n",
       "      <td>...</td>\n",
       "      <td>...</td>\n",
       "      <td>...</td>\n",
       "    </tr>\n",
       "    <tr>\n",
       "      <th>146</th>\n",
       "      <td>146</td>\n",
       "      <td>6.7</td>\n",
       "      <td>3.0</td>\n",
       "      <td>5.2</td>\n",
       "      <td>2.3</td>\n",
       "      <td>Iris-virginica</td>\n",
       "    </tr>\n",
       "    <tr>\n",
       "      <th>147</th>\n",
       "      <td>147</td>\n",
       "      <td>6.3</td>\n",
       "      <td>2.5</td>\n",
       "      <td>5.0</td>\n",
       "      <td>1.9</td>\n",
       "      <td>Iris-virginica</td>\n",
       "    </tr>\n",
       "    <tr>\n",
       "      <th>148</th>\n",
       "      <td>148</td>\n",
       "      <td>6.5</td>\n",
       "      <td>3.0</td>\n",
       "      <td>5.2</td>\n",
       "      <td>2.0</td>\n",
       "      <td>Iris-virginica</td>\n",
       "    </tr>\n",
       "    <tr>\n",
       "      <th>149</th>\n",
       "      <td>149</td>\n",
       "      <td>6.2</td>\n",
       "      <td>3.4</td>\n",
       "      <td>5.4</td>\n",
       "      <td>2.3</td>\n",
       "      <td>Iris-virginica</td>\n",
       "    </tr>\n",
       "    <tr>\n",
       "      <th>150</th>\n",
       "      <td>150</td>\n",
       "      <td>5.9</td>\n",
       "      <td>3.0</td>\n",
       "      <td>5.1</td>\n",
       "      <td>1.8</td>\n",
       "      <td>Iris-virginica</td>\n",
       "    </tr>\n",
       "  </tbody>\n",
       "</table>\n",
       "<p>151 rows × 6 columns</p>\n",
       "</div>"
      ],
      "text/plain": [
       "       0              1             2              3             4  \\\n",
       "0     Id  SepalLengthCm  SepalWidthCm  PetalLengthCm  PetalWidthCm   \n",
       "1      1            5.1           3.5            1.4           0.2   \n",
       "2      2            4.9           3.0            1.4           0.2   \n",
       "3      3            4.7           3.2            1.3           0.2   \n",
       "4      4            4.6           3.1            1.5           0.2   \n",
       "..   ...            ...           ...            ...           ...   \n",
       "146  146            6.7           3.0            5.2           2.3   \n",
       "147  147            6.3           2.5            5.0           1.9   \n",
       "148  148            6.5           3.0            5.2           2.0   \n",
       "149  149            6.2           3.4            5.4           2.3   \n",
       "150  150            5.9           3.0            5.1           1.8   \n",
       "\n",
       "                  5  \n",
       "0           Species  \n",
       "1       Iris-setosa  \n",
       "2       Iris-setosa  \n",
       "3       Iris-setosa  \n",
       "4       Iris-setosa  \n",
       "..              ...  \n",
       "146  Iris-virginica  \n",
       "147  Iris-virginica  \n",
       "148  Iris-virginica  \n",
       "149  Iris-virginica  \n",
       "150  Iris-virginica  \n",
       "\n",
       "[151 rows x 6 columns]"
      ]
     },
     "execution_count": 45,
     "metadata": {},
     "output_type": "execute_result"
    }
   ],
   "source": [
    "df"
   ]
  },
  {
   "cell_type": "markdown",
   "metadata": {},
   "source": [
    "# Encode categorical class labels"
   ]
  },
  {
   "cell_type": "code",
   "execution_count": 48,
   "metadata": {},
   "outputs": [],
   "source": [
    "from sklearn.preprocessing import LabelEncoder\n",
    "class_le = LabelEncoder()\n",
    "y = class_le.fit_transform(df.iloc[1:,5].values)"
   ]
  },
  {
   "cell_type": "code",
   "execution_count": 49,
   "metadata": {},
   "outputs": [
    {
     "data": {
      "text/plain": [
       "array([0, 0, 0, 0, 0, 0, 0, 0, 0, 0, 0, 0, 0, 0, 0, 0, 0, 0, 0, 0, 0, 0,\n",
       "       0, 0, 0, 0, 0, 0, 0, 0, 0, 0, 0, 0, 0, 0, 0, 0, 0, 0, 0, 0, 0, 0,\n",
       "       0, 0, 0, 0, 0, 0, 1, 1, 1, 1, 1, 1, 1, 1, 1, 1, 1, 1, 1, 1, 1, 1,\n",
       "       1, 1, 1, 1, 1, 1, 1, 1, 1, 1, 1, 1, 1, 1, 1, 1, 1, 1, 1, 1, 1, 1,\n",
       "       1, 1, 1, 1, 1, 1, 1, 1, 1, 1, 1, 1, 2, 2, 2, 2, 2, 2, 2, 2, 2, 2,\n",
       "       2, 2, 2, 2, 2, 2, 2, 2, 2, 2, 2, 2, 2, 2, 2, 2, 2, 2, 2, 2, 2, 2,\n",
       "       2, 2, 2, 2, 2, 2, 2, 2, 2, 2, 2, 2, 2, 2, 2, 2, 2, 2])"
      ]
     },
     "execution_count": 49,
     "metadata": {},
     "output_type": "execute_result"
    }
   ],
   "source": [
    "y"
   ]
  },
  {
   "cell_type": "markdown",
   "metadata": {},
   "source": [
    "# Standardize features"
   ]
  },
  {
   "cell_type": "code",
   "execution_count": 50,
   "metadata": {},
   "outputs": [],
   "source": [
    "from sklearn.preprocessing import StandardScaler\n",
    "stdsc = StandardScaler()\n",
    "X_train_std = stdsc.fit_transform(df.iloc[1:,1:5].values) "
   ]
  },
  {
   "cell_type": "code",
   "execution_count": 51,
   "metadata": {},
   "outputs": [
    {
     "data": {
      "text/plain": [
       "array([[-9.0068e-01,  1.0321e+00, -1.3413e+00, -1.3130e+00],\n",
       "       [-1.1430e+00, -1.2496e-01, -1.3413e+00, -1.3130e+00],\n",
       "       [-1.3854e+00,  3.3785e-01, -1.3981e+00, -1.3130e+00],\n",
       "       [-1.5065e+00,  1.0645e-01, -1.2844e+00, -1.3130e+00],\n",
       "       [-1.0218e+00,  1.2635e+00, -1.3413e+00, -1.3130e+00],\n",
       "       [-5.3718e-01,  1.9577e+00, -1.1707e+00, -1.0500e+00],\n",
       "       [-1.5065e+00,  8.0065e-01, -1.3413e+00, -1.1815e+00],\n",
       "       [-1.0218e+00,  8.0065e-01, -1.2844e+00, -1.3130e+00],\n",
       "       [-1.7489e+00, -3.5636e-01, -1.3413e+00, -1.3130e+00],\n",
       "       [-1.1430e+00,  1.0645e-01, -1.2844e+00, -1.4444e+00],\n",
       "       [-5.3718e-01,  1.4949e+00, -1.2844e+00, -1.3130e+00],\n",
       "       [-1.2642e+00,  8.0065e-01, -1.2275e+00, -1.3130e+00],\n",
       "       [-1.2642e+00, -1.2496e-01, -1.3413e+00, -1.4444e+00],\n",
       "       [-1.8700e+00, -1.2496e-01, -1.5119e+00, -1.4444e+00],\n",
       "       [-5.2506e-02,  2.1891e+00, -1.4550e+00, -1.3130e+00],\n",
       "       [-1.7367e-01,  3.1147e+00, -1.2844e+00, -1.0500e+00],\n",
       "       [-5.3718e-01,  1.9577e+00, -1.3981e+00, -1.0500e+00],\n",
       "       [-9.0068e-01,  1.0321e+00, -1.3413e+00, -1.1815e+00],\n",
       "       [-1.7367e-01,  1.7263e+00, -1.1707e+00, -1.1815e+00],\n",
       "       [-9.0068e-01,  1.7263e+00, -1.2844e+00, -1.1815e+00],\n",
       "       [-5.3718e-01,  8.0065e-01, -1.1707e+00, -1.3130e+00],\n",
       "       [-9.0068e-01,  1.4949e+00, -1.2844e+00, -1.0500e+00],\n",
       "       [-1.5065e+00,  1.2635e+00, -1.5687e+00, -1.3130e+00],\n",
       "       [-9.0068e-01,  5.6925e-01, -1.1707e+00, -9.1856e-01],\n",
       "       [-1.2642e+00,  8.0065e-01, -1.0569e+00, -1.3130e+00],\n",
       "       [-1.0218e+00, -1.2496e-01, -1.2275e+00, -1.3130e+00],\n",
       "       [-1.0218e+00,  8.0065e-01, -1.2275e+00, -1.0500e+00],\n",
       "       [-7.7951e-01,  1.0321e+00, -1.2844e+00, -1.3130e+00],\n",
       "       [-7.7951e-01,  8.0065e-01, -1.3413e+00, -1.3130e+00],\n",
       "       [-1.3854e+00,  3.3785e-01, -1.2275e+00, -1.3130e+00],\n",
       "       [-1.2642e+00,  1.0645e-01, -1.2275e+00, -1.3130e+00],\n",
       "       [-5.3718e-01,  8.0065e-01, -1.2844e+00, -1.0500e+00],\n",
       "       [-7.7951e-01,  2.4205e+00, -1.2844e+00, -1.4444e+00],\n",
       "       [-4.1601e-01,  2.6519e+00, -1.3413e+00, -1.3130e+00],\n",
       "       [-1.1430e+00,  1.0645e-01, -1.2844e+00, -1.4444e+00],\n",
       "       [-1.0218e+00,  3.3785e-01, -1.4550e+00, -1.3130e+00],\n",
       "       [-4.1601e-01,  1.0321e+00, -1.3981e+00, -1.3130e+00],\n",
       "       [-1.1430e+00,  1.0645e-01, -1.2844e+00, -1.4444e+00],\n",
       "       [-1.7489e+00, -1.2496e-01, -1.3981e+00, -1.3130e+00],\n",
       "       [-9.0068e-01,  8.0065e-01, -1.2844e+00, -1.3130e+00],\n",
       "       [-1.0218e+00,  1.0321e+00, -1.3981e+00, -1.1815e+00],\n",
       "       [-1.6277e+00, -1.7448e+00, -1.3981e+00, -1.1815e+00],\n",
       "       [-1.7489e+00,  3.3785e-01, -1.3981e+00, -1.3130e+00],\n",
       "       [-1.0218e+00,  1.0321e+00, -1.2275e+00, -7.8708e-01],\n",
       "       [-9.0068e-01,  1.7263e+00, -1.0569e+00, -1.0500e+00],\n",
       "       [-1.2642e+00, -1.2496e-01, -1.3413e+00, -1.1815e+00],\n",
       "       [-9.0068e-01,  1.7263e+00, -1.2275e+00, -1.3130e+00],\n",
       "       [-1.5065e+00,  3.3785e-01, -1.3413e+00, -1.3130e+00],\n",
       "       [-6.5835e-01,  1.4949e+00, -1.2844e+00, -1.3130e+00],\n",
       "       [-1.0218e+00,  5.6925e-01, -1.3413e+00, -1.3130e+00],\n",
       "       [ 1.4015e+00,  3.3785e-01,  5.3530e-01,  2.6470e-01],\n",
       "       [ 6.7450e-01,  3.3785e-01,  4.2156e-01,  3.9617e-01],\n",
       "       [ 1.2803e+00,  1.0645e-01,  6.4903e-01,  3.9617e-01],\n",
       "       [-4.1601e-01, -1.7448e+00,  1.3724e-01,  1.3323e-01],\n",
       "       [ 7.9567e-01, -5.8776e-01,  4.7843e-01,  3.9617e-01],\n",
       "       [-1.7367e-01, -5.8776e-01,  4.2156e-01,  1.3323e-01],\n",
       "       [ 5.5333e-01,  5.6925e-01,  5.3530e-01,  5.2764e-01],\n",
       "       [-1.1430e+00, -1.5134e+00, -2.6082e-01, -2.6119e-01],\n",
       "       [ 9.1684e-01, -3.5636e-01,  4.7843e-01,  1.3323e-01],\n",
       "       [-7.7951e-01, -8.1917e-01,  8.0370e-02,  2.6470e-01],\n",
       "       [-1.0218e+00, -2.4390e+00, -1.4709e-01, -2.6119e-01],\n",
       "       [ 6.8662e-02, -1.2496e-01,  2.5097e-01,  3.9617e-01],\n",
       "       [ 1.8983e-01, -1.9762e+00,  1.3724e-01, -2.6119e-01],\n",
       "       [ 3.1100e-01, -3.5636e-01,  5.3530e-01,  2.6470e-01],\n",
       "       [-2.9484e-01, -3.5636e-01, -9.0227e-02,  1.3323e-01],\n",
       "       [ 1.0380e+00,  1.0645e-01,  3.6470e-01,  2.6470e-01],\n",
       "       [-2.9484e-01, -1.2496e-01,  4.2156e-01,  3.9617e-01],\n",
       "       [-5.2506e-02, -8.1917e-01,  1.9410e-01, -2.6119e-01],\n",
       "       [ 4.3217e-01, -1.9762e+00,  4.2156e-01,  3.9617e-01],\n",
       "       [-2.9484e-01, -1.2820e+00,  8.0370e-02, -1.2972e-01],\n",
       "       [ 6.8662e-02,  3.3785e-01,  5.9216e-01,  7.9059e-01],\n",
       "       [ 3.1100e-01, -5.8776e-01,  1.3724e-01,  1.3323e-01],\n",
       "       [ 5.5333e-01, -1.2820e+00,  6.4903e-01,  3.9617e-01],\n",
       "       [ 3.1100e-01, -5.8776e-01,  5.3530e-01,  1.7530e-03],\n",
       "       [ 6.7450e-01, -3.5636e-01,  3.0783e-01,  1.3323e-01],\n",
       "       [ 9.1684e-01, -1.2496e-01,  3.6470e-01,  2.6470e-01],\n",
       "       [ 1.1592e+00, -5.8776e-01,  5.9216e-01,  2.6470e-01],\n",
       "       [ 1.0380e+00, -1.2496e-01,  7.0589e-01,  6.5912e-01],\n",
       "       [ 1.8983e-01, -3.5636e-01,  4.2156e-01,  3.9617e-01],\n",
       "       [-1.7367e-01, -1.0506e+00, -1.4709e-01, -2.6119e-01],\n",
       "       [-4.1601e-01, -1.5134e+00,  2.3504e-02, -1.2972e-01],\n",
       "       [-4.1601e-01, -1.5134e+00, -3.3361e-02, -2.6119e-01],\n",
       "       [-5.2506e-02, -8.1917e-01,  8.0370e-02,  1.7530e-03],\n",
       "       [ 1.8983e-01, -8.1917e-01,  7.6276e-01,  5.2764e-01],\n",
       "       [-5.3718e-01, -1.2496e-01,  4.2156e-01,  3.9617e-01],\n",
       "       [ 1.8983e-01,  8.0065e-01,  4.2156e-01,  5.2764e-01],\n",
       "       [ 1.0380e+00,  1.0645e-01,  5.3530e-01,  3.9617e-01],\n",
       "       [ 5.5333e-01, -1.7448e+00,  3.6470e-01,  1.3323e-01],\n",
       "       [-2.9484e-01, -1.2496e-01,  1.9410e-01,  1.3323e-01],\n",
       "       [-4.1601e-01, -1.2820e+00,  1.3724e-01,  1.3323e-01],\n",
       "       [-4.1601e-01, -1.0506e+00,  3.6470e-01,  1.7530e-03],\n",
       "       [ 3.1100e-01, -1.2496e-01,  4.7843e-01,  2.6470e-01],\n",
       "       [-5.2506e-02, -1.0506e+00,  1.3724e-01,  1.7530e-03],\n",
       "       [-1.0218e+00, -1.7448e+00, -2.6082e-01, -2.6119e-01],\n",
       "       [-2.9484e-01, -8.1917e-01,  2.5097e-01,  1.3323e-01],\n",
       "       [-1.7367e-01, -1.2496e-01,  2.5097e-01,  1.7530e-03],\n",
       "       [-1.7367e-01, -3.5636e-01,  2.5097e-01,  1.3323e-01],\n",
       "       [ 4.3217e-01, -3.5636e-01,  3.0783e-01,  1.3323e-01],\n",
       "       [-9.0068e-01, -1.2820e+00, -4.3142e-01, -1.2972e-01],\n",
       "       [-1.7367e-01, -5.8776e-01,  1.9410e-01,  1.3323e-01],\n",
       "       [ 5.5333e-01,  5.6925e-01,  1.2745e+00,  1.7109e+00],\n",
       "       [-5.2506e-02, -8.1917e-01,  7.6276e-01,  9.2206e-01],\n",
       "       [ 1.5227e+00, -1.2496e-01,  1.2177e+00,  1.1850e+00],\n",
       "       [ 5.5333e-01, -3.5636e-01,  1.0471e+00,  7.9059e-01],\n",
       "       [ 7.9567e-01, -1.2496e-01,  1.1608e+00,  1.3165e+00],\n",
       "       [ 2.1285e+00, -1.2496e-01,  1.6157e+00,  1.1850e+00],\n",
       "       [-1.1430e+00, -1.2820e+00,  4.2156e-01,  6.5912e-01],\n",
       "       [ 1.7650e+00, -3.5636e-01,  1.4451e+00,  7.9059e-01],\n",
       "       [ 1.0380e+00, -1.2820e+00,  1.1608e+00,  7.9059e-01],\n",
       "       [ 1.6438e+00,  1.2635e+00,  1.3314e+00,  1.7109e+00],\n",
       "       [ 7.9567e-01,  3.3785e-01,  7.6276e-01,  1.0535e+00],\n",
       "       [ 6.7450e-01, -8.1917e-01,  8.7649e-01,  9.2206e-01],\n",
       "       [ 1.1592e+00, -1.2496e-01,  9.9022e-01,  1.1850e+00],\n",
       "       [-1.7367e-01, -1.2820e+00,  7.0589e-01,  1.0535e+00],\n",
       "       [-5.2506e-02, -5.8776e-01,  7.6276e-01,  1.5794e+00],\n",
       "       [ 6.7450e-01,  3.3785e-01,  8.7649e-01,  1.4480e+00],\n",
       "       [ 7.9567e-01, -1.2496e-01,  9.9022e-01,  7.9059e-01],\n",
       "       [ 2.2497e+00,  1.7263e+00,  1.6726e+00,  1.3165e+00],\n",
       "       [ 2.2497e+00, -1.0506e+00,  1.7863e+00,  1.4480e+00],\n",
       "       [ 1.8983e-01, -1.9762e+00,  7.0589e-01,  3.9617e-01],\n",
       "       [ 1.2803e+00,  3.3785e-01,  1.1040e+00,  1.4480e+00],\n",
       "       [-2.9484e-01, -5.8776e-01,  6.4903e-01,  1.0535e+00],\n",
       "       [ 2.2497e+00, -5.8776e-01,  1.6726e+00,  1.0535e+00],\n",
       "       [ 5.5333e-01, -8.1917e-01,  6.4903e-01,  7.9059e-01],\n",
       "       [ 1.0380e+00,  5.6925e-01,  1.1040e+00,  1.1850e+00],\n",
       "       [ 1.6438e+00,  3.3785e-01,  1.2745e+00,  7.9059e-01],\n",
       "       [ 4.3217e-01, -5.8776e-01,  5.9216e-01,  7.9059e-01],\n",
       "       [ 3.1100e-01, -1.2496e-01,  6.4903e-01,  7.9059e-01],\n",
       "       [ 6.7450e-01, -5.8776e-01,  1.0471e+00,  1.1850e+00],\n",
       "       [ 1.6438e+00, -1.2496e-01,  1.1608e+00,  5.2764e-01],\n",
       "       [ 1.8862e+00, -5.8776e-01,  1.3314e+00,  9.2206e-01],\n",
       "       [ 2.4920e+00,  1.7263e+00,  1.5020e+00,  1.0535e+00],\n",
       "       [ 6.7450e-01, -5.8776e-01,  1.0471e+00,  1.3165e+00],\n",
       "       [ 5.5333e-01, -5.8776e-01,  7.6276e-01,  3.9617e-01],\n",
       "       [ 3.1100e-01, -1.0506e+00,  1.0471e+00,  2.6470e-01],\n",
       "       [ 2.2497e+00, -1.2496e-01,  1.3314e+00,  1.4480e+00],\n",
       "       [ 5.5333e-01,  8.0065e-01,  1.0471e+00,  1.5794e+00],\n",
       "       [ 6.7450e-01,  1.0645e-01,  9.9022e-01,  7.9059e-01],\n",
       "       [ 1.8983e-01, -1.2496e-01,  5.9216e-01,  7.9059e-01],\n",
       "       [ 1.2803e+00,  1.0645e-01,  9.3336e-01,  1.1850e+00],\n",
       "       [ 1.0380e+00,  1.0645e-01,  1.0471e+00,  1.5794e+00],\n",
       "       [ 1.2803e+00,  1.0645e-01,  7.6276e-01,  1.4480e+00],\n",
       "       [-5.2506e-02, -8.1917e-01,  7.6276e-01,  9.2206e-01],\n",
       "       [ 1.1592e+00,  3.3785e-01,  1.2177e+00,  1.4480e+00],\n",
       "       [ 1.0380e+00,  5.6925e-01,  1.1040e+00,  1.7109e+00],\n",
       "       [ 1.0380e+00, -1.2496e-01,  8.1962e-01,  1.4480e+00],\n",
       "       [ 5.5333e-01, -1.2820e+00,  7.0589e-01,  9.2206e-01],\n",
       "       [ 7.9567e-01, -1.2496e-01,  8.1962e-01,  1.0535e+00],\n",
       "       [ 4.3217e-01,  8.0065e-01,  9.3336e-01,  1.4480e+00],\n",
       "       [ 6.8662e-02, -1.2496e-01,  7.6276e-01,  7.9059e-01]])"
      ]
     },
     "execution_count": 51,
     "metadata": {},
     "output_type": "execute_result"
    }
   ],
   "source": [
    "X_train_std"
   ]
  },
  {
   "cell_type": "markdown",
   "metadata": {},
   "source": [
    "# Construct within-class covariant scatter matrix S_W"
   ]
  },
  {
   "cell_type": "code",
   "execution_count": 52,
   "metadata": {},
   "outputs": [],
   "source": [
    "S_W = np.zeros((4,4))\n",
    "for i in range(3):\n",
    "    S_W += np.cov(X_train_std[y==i].T)"
   ]
  },
  {
   "cell_type": "code",
   "execution_count": 53,
   "metadata": {},
   "outputs": [
    {
     "data": {
      "text/plain": [
       "array([[1.1672, 0.783 , 0.3461, 0.1839],\n",
       "       [0.783 , 1.8616, 0.2181, 0.3051],\n",
       "       [0.3461, 0.2181, 0.1796, 0.0954],\n",
       "       [0.1839, 0.3051, 0.0954, 0.2178]])"
      ]
     },
     "execution_count": 53,
     "metadata": {},
     "output_type": "execute_result"
    }
   ],
   "source": [
    "S_W"
   ]
  },
  {
   "cell_type": "markdown",
   "metadata": {},
   "source": [
    "# Construct between-class scatter matrix S_B"
   ]
  },
  {
   "cell_type": "code",
   "execution_count": 54,
   "metadata": {},
   "outputs": [],
   "source": [
    "N=np.bincount(y) # number of samples for given class\n",
    "vecs=[]\n",
    "[vecs.append(np.mean(X_train_std[y==i],axis=0)) for i in range(3)] # class means\n",
    "mean_overall = np.mean(X_train_std, axis=0) # overall mean\n",
    "S_B=np.zeros((4,4))\n",
    "for i in range(3):\n",
    "    S_B += N[i]*(((vecs[i]-mean_overall).reshape(4,1)).dot(((vecs[i]-mean_overall).reshape(1,4))))"
   ]
  },
  {
   "cell_type": "code",
   "execution_count": 55,
   "metadata": {},
   "outputs": [
    {
     "data": {
      "text/plain": [
       "array([50, 50, 50])"
      ]
     },
     "execution_count": 55,
     "metadata": {},
     "output_type": "execute_result"
    }
   ],
   "source": [
    "N"
   ]
  },
  {
   "cell_type": "code",
   "execution_count": 56,
   "metadata": {},
   "outputs": [
    {
     "data": {
      "text/plain": [
       "[array([-1.0146,  0.8423, -1.3049, -1.2551]),\n",
       " array([ 0.1123, -0.6572,  0.2851,  0.1674]),\n",
       " array([ 0.9023, -0.1851,  1.0198,  1.0877])]"
      ]
     },
     "execution_count": 56,
     "metadata": {},
     "output_type": "execute_result"
    }
   ],
   "source": [
    "vecs"
   ]
  },
  {
   "cell_type": "code",
   "execution_count": 43,
   "metadata": {},
   "outputs": [
    {
     "data": {
      "text/plain": [
       "array([[ 47.795 , -30.6027,  58.3738,  58.024 ],\n",
       "       [-30.6027,  20.714 , -37.8177, -37.3746],\n",
       "       [ 58.3738, -37.8177,  71.4903,  70.9146],\n",
       "       [ 58.024 , -37.3746,  70.9146,  70.5597]])"
      ]
     },
     "execution_count": 43,
     "metadata": {},
     "output_type": "execute_result"
    }
   ],
   "source": [
    "S_B"
   ]
  },
  {
   "cell_type": "markdown",
   "metadata": {},
   "source": [
    "# Calculate sorted eigenvalues and eigenvectors of  inverse(S_W)dot(S_B)"
   ]
  },
  {
   "cell_type": "code",
   "execution_count": 58,
   "metadata": {},
   "outputs": [
    {
     "name": "stdout",
     "output_type": "stream",
     "text": [
      "Eigenvalues in decreasing order:\n",
      "\n",
      "1581.3259321867622\n",
      "13.6007763281623\n",
      "2.3217439077720115e-13\n",
      "1.3622462933581036e-13\n"
     ]
    }
   ],
   "source": [
    "eigen_vals, eigen_vecs = np.linalg.eig(np.linalg.inv(S_W).dot(S_B))\n",
    "eigen_pairs = [(np.abs(eigen_vals[i]), eigen_vecs[:,i]) for i in range(len(eigen_vals))]\n",
    "eigen_pairs = sorted(eigen_pairs, reverse=True)\n",
    "print('Eigenvalues in decreasing order:\\n')\n",
    "for eigen_val in eigen_pairs:\n",
    "    print(eigen_val[0])"
   ]
  },
  {
   "cell_type": "markdown",
   "metadata": {},
   "source": [
    "# Project original features onto the new feature space"
   ]
  },
  {
   "cell_type": "code",
   "execution_count": 59,
   "metadata": {},
   "outputs": [],
   "source": [
    "W=np.hstack((eigen_pairs[0][1][:, ].reshape(4,1),eigen_pairs[1][1][:, ].reshape(4,1))).real\n",
    "X_train_lda = X_train_std.dot(W)"
   ]
  },
  {
   "cell_type": "markdown",
   "metadata": {},
   "source": [
    "# Plot transformed features in LDA subspace"
   ]
  },
  {
   "cell_type": "code",
   "execution_count": 60,
   "metadata": {},
   "outputs": [
    {
     "data": {
      "text/html": [
       "<div>\n",
       "<style scoped>\n",
       "    .dataframe tbody tr th:only-of-type {\n",
       "        vertical-align: middle;\n",
       "    }\n",
       "\n",
       "    .dataframe tbody tr th {\n",
       "        vertical-align: top;\n",
       "    }\n",
       "\n",
       "    .dataframe thead th {\n",
       "        text-align: right;\n",
       "    }\n",
       "</style>\n",
       "<table border=\"1\" class=\"dataframe\">\n",
       "  <thead>\n",
       "    <tr style=\"text-align: right;\">\n",
       "      <th></th>\n",
       "      <th>LD1</th>\n",
       "      <th>LD2</th>\n",
       "      <th>class</th>\n",
       "    </tr>\n",
       "  </thead>\n",
       "  <tbody>\n",
       "    <tr>\n",
       "      <th>0</th>\n",
       "      <td>-1.790936</td>\n",
       "      <td>0.115414</td>\n",
       "      <td>0</td>\n",
       "    </tr>\n",
       "    <tr>\n",
       "      <th>1</th>\n",
       "      <td>-1.583202</td>\n",
       "      <td>-0.265463</td>\n",
       "      <td>0</td>\n",
       "    </tr>\n",
       "    <tr>\n",
       "      <th>2</th>\n",
       "      <td>-1.663881</td>\n",
       "      <td>-0.083657</td>\n",
       "      <td>0</td>\n",
       "    </tr>\n",
       "    <tr>\n",
       "      <th>3</th>\n",
       "      <td>-1.514646</td>\n",
       "      <td>-0.225901</td>\n",
       "      <td>0</td>\n",
       "    </tr>\n",
       "    <tr>\n",
       "      <th>4</th>\n",
       "      <td>-1.807076</td>\n",
       "      <td>0.189973</td>\n",
       "      <td>0</td>\n",
       "    </tr>\n",
       "  </tbody>\n",
       "</table>\n",
       "</div>"
      ],
      "text/plain": [
       "        LD1       LD2  class\n",
       "0 -1.790936  0.115414      0\n",
       "1 -1.583202 -0.265463      0\n",
       "2 -1.663881 -0.083657      0\n",
       "3 -1.514646 -0.225901      0\n",
       "4 -1.807076  0.189973      0"
      ]
     },
     "execution_count": 60,
     "metadata": {},
     "output_type": "execute_result"
    }
   ],
   "source": [
    "data=pd.DataFrame(X_train_lda)\n",
    "data['class']=y\n",
    "data.columns=[\"LD1\",\"LD2\",\"class\"]\n",
    "data.head()"
   ]
  },
  {
   "cell_type": "code",
   "execution_count": 61,
   "metadata": {},
   "outputs": [
    {
     "data": {
      "image/png": "[encoded data removed]",
      "text/plain": [
       "<Figure size 500x500 with 1 Axes>"
      ]
     },
     "metadata": {},
     "output_type": "display_data"
    }
   ],
   "source": [
    "markers = ['s', 'x','o']\n",
    "sns.lmplot(x=\"LD1\", y=\"LD2\", data=data, markers=markers,fit_reg=False, hue='class', legend=False)\n",
    "plt.legend(loc='upper center')\n",
    "plt.show()"
   ]
  },
  {
   "cell_type": "markdown",
   "metadata": {},
   "source": [
    "# LDA implementation using scikit-learn"
   ]
  },
  {
   "cell_type": "code",
   "execution_count": 62,
   "metadata": {},
   "outputs": [],
   "source": [
    "from sklearn.discriminant_analysis import LinearDiscriminantAnalysis\n",
    "lda = LinearDiscriminantAnalysis(n_components=2)\n",
    "X_train_lda = lda.fit_transform(X_train_std, y)"
   ]
  },
  {
   "cell_type": "code",
   "execution_count": 63,
   "metadata": {},
   "outputs": [
    {
     "data": {
      "text/html": [
       "<div>\n",
       "<style scoped>\n",
       "    .dataframe tbody tr th:only-of-type {\n",
       "        vertical-align: middle;\n",
       "    }\n",
       "\n",
       "    .dataframe tbody tr th {\n",
       "        vertical-align: top;\n",
       "    }\n",
       "\n",
       "    .dataframe thead th {\n",
       "        text-align: right;\n",
       "    }\n",
       "</style>\n",
       "<table border=\"1\" class=\"dataframe\">\n",
       "  <thead>\n",
       "    <tr style=\"text-align: right;\">\n",
       "      <th></th>\n",
       "      <th>LD1</th>\n",
       "      <th>LD2</th>\n",
       "      <th>class</th>\n",
       "    </tr>\n",
       "  </thead>\n",
       "  <tbody>\n",
       "    <tr>\n",
       "      <th>0</th>\n",
       "      <td>8.084953</td>\n",
       "      <td>-0.328454</td>\n",
       "      <td>0</td>\n",
       "    </tr>\n",
       "    <tr>\n",
       "      <th>1</th>\n",
       "      <td>7.147163</td>\n",
       "      <td>0.755473</td>\n",
       "      <td>0</td>\n",
       "    </tr>\n",
       "    <tr>\n",
       "      <th>2</th>\n",
       "      <td>7.511378</td>\n",
       "      <td>0.238078</td>\n",
       "      <td>0</td>\n",
       "    </tr>\n",
       "    <tr>\n",
       "      <th>3</th>\n",
       "      <td>6.837676</td>\n",
       "      <td>0.642885</td>\n",
       "      <td>0</td>\n",
       "    </tr>\n",
       "    <tr>\n",
       "      <th>4</th>\n",
       "      <td>8.157814</td>\n",
       "      <td>-0.540639</td>\n",
       "      <td>0</td>\n",
       "    </tr>\n",
       "  </tbody>\n",
       "</table>\n",
       "</div>"
      ],
      "text/plain": [
       "        LD1       LD2  class\n",
       "0  8.084953 -0.328454      0\n",
       "1  7.147163  0.755473      0\n",
       "2  7.511378  0.238078      0\n",
       "3  6.837676  0.642885      0\n",
       "4  8.157814 -0.540639      0"
      ]
     },
     "execution_count": 63,
     "metadata": {},
     "output_type": "execute_result"
    }
   ],
   "source": [
    "data=pd.DataFrame(X_train_lda)\n",
    "data['class']=y\n",
    "data.columns=[\"LD1\",\"LD2\",\"class\"]\n",
    "data.head()"
   ]
  },
  {
   "cell_type": "code",
   "execution_count": 64,
   "metadata": {},
   "outputs": [
    {
     "data": {
      "image/png": "[encoded data removed]",
      "text/plain": [
       "<Figure size 500x500 with 1 Axes>"
      ]
     },
     "metadata": {},
     "output_type": "display_data"
    }
   ],
   "source": [
    "markers = ['s', 'x','o']\n",
    "colors = ['r', 'b','g']\n",
    "sns.lmplot(x=\"LD1\", y=\"LD2\", data=data, hue='class', markers=markers,fit_reg=False,legend=False)\n",
    "plt.legend(loc='upper center')\n",
    "plt.show()"
   ]
  },
  {
   "cell_type": "code",
   "execution_count": null,
   "metadata": {},
   "outputs": [],
   "source": []
  }
 ],
 "metadata": {
  "kernelspec": {
   "display_name": "Python 3",
   "language": "python",
   "name": "python3"
  },
  "language_info": {
   "codemirror_mode": {
    "name": "ipython",
    "version": 3
   },
   "file_extension": ".py",
   "mimetype": "text/x-python",
   "name": "python",
   "nbconvert_exporter": "python",
   "pygments_lexer": "ipython3",
   "version": "3.12.1"
  }
 },
 "nbformat": 4,
 "nbformat_minor": 2
}
